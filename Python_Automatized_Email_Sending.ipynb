{
 "cells": [
  {
   "cell_type": "code",
   "execution_count": 1,
   "metadata": {},
   "outputs": [
    {
     "name": "stdout",
     "output_type": "stream",
     "text": [
      "Sent\n"
     ]
    }
   ],
   "source": [
    "# Email Sending Automazation in Python3.6\n",
    "import smtplib\n",
    "sender = 'leiyang2586@gmail.com'\n",
    "receiver = 'ylei2@pride.hofstra.edu'\n",
    "password = 'xxxxxxx'\n",
    "smtpserver = smtplib.SMTP(\"smtp.gmail.com\",587)\n",
    "smtpserver.ehlo()\n",
    "smtpserver.starttls()\n",
    "smtpserver.ehlo\n",
    "smtpserver.login(sender,password)\n",
    "msg='Subject:Demo\\nThis is a demo and you are awsome and you are bound to shine and execel !!!'\n",
    "smtpserver.sendmail(sender,receiver,msg)\n",
    "print('Sent')\n",
    "smtpserver.close()"
   ]
  },
  {
   "cell_type": "code",
   "execution_count": null,
   "metadata": {},
   "outputs": [],
   "source": []
  }
 ],
 "metadata": {
  "kernelspec": {
   "display_name": "Python 3",
   "language": "python",
   "name": "python3"
  },
  "language_info": {
   "codemirror_mode": {
    "name": "ipython",
    "version": 3
   },
   "file_extension": ".py",
   "mimetype": "text/x-python",
   "name": "python",
   "nbconvert_exporter": "python",
   "pygments_lexer": "ipython3",
   "version": "3.7.0"
  }
 },
 "nbformat": 4,
 "nbformat_minor": 2
}
